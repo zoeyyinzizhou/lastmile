{
 "cells": [
  {
   "cell_type": "markdown",
   "id": "aa665088",
   "metadata": {},
   "source": [
    "#### Save this file within the same folder as your workpaper (where you have your journal batches on separate tabs)"
   ]
  },
  {
   "cell_type": "markdown",
   "id": "9732fe73",
   "metadata": {},
   "source": [
    "#### Open this file in Jupyter Notebook and run the script below"
   ]
  },
  {
   "cell_type": "markdown",
   "id": "9c297733",
   "metadata": {},
   "source": [
    "#### Import Libraries"
   ]
  },
  {
   "cell_type": "code",
   "execution_count": null,
   "id": "8bd5ec8d",
   "metadata": {},
   "outputs": [],
   "source": [
    "import os\n",
    "import pandas as pd"
   ]
  },
  {
   "cell_type": "markdown",
   "id": "f09e35f4",
   "metadata": {},
   "source": [
    "##### Read all the tabs within the excel file"
   ]
  },
  {
   "cell_type": "code",
   "execution_count": null,
   "id": "4bed88f4",
   "metadata": {},
   "outputs": [],
   "source": [
    "#Set f equals your wp name\n",
    "f = 'OCT22_LegalAccrual.xlsx'"
   ]
  },
  {
   "cell_type": "code",
   "execution_count": null,
   "id": "e0b77e20",
   "metadata": {},
   "outputs": [],
   "source": [
    "#Pass f in as the first parameter -\n",
    "\n",
    "sheets_dict = pd.read_excel(f, sheet_name=None) "
   ]
  },
  {
   "cell_type": "markdown",
   "id": "98ab69c6",
   "metadata": {},
   "source": [
    "#### Create a empty list to store journal header name (will pass it as the header for the final journal batch)"
   ]
  },
  {
   "cell_type": "code",
   "execution_count": null,
   "id": "bb89ec88",
   "metadata": {},
   "outputs": [],
   "source": [
    "header =[]\n",
    "\n",
    "#Read one of the tabs that have the journal batch template -\"Batch_Invoice_(1)\"\n",
    "#header is in row 12, therefore, the 3rd parameter is - header=11 - as Python start counting from zero\n",
    "#if on your file the header is in row 11, make sure to update parameter header=10, etc. \n",
    "\n",
    "Batch1 = pd.read_excel(f, \"Batch_Invoice_(1)\", header=11)\n",
    "header = list(Batch1.columns.values)\n",
    "print(header)"
   ]
  },
  {
   "cell_type": "markdown",
   "id": "49d1e9c5",
   "metadata": {},
   "source": [
    "#### Create a empty list to store all the journal batch tabs (make sure those tabs have the same naming convention so we can set criteria to iterate and find those tabs within the file)"
   ]
  },
  {
   "cell_type": "code",
   "execution_count": null,
   "id": "b107790b",
   "metadata": {},
   "outputs": [],
   "source": [
    "all_sheets = []"
   ]
  },
  {
   "cell_type": "code",
   "execution_count": null,
   "id": "ea9d312b",
   "metadata": {},
   "outputs": [],
   "source": [
    "for name, value in sheets_dict.items():\n",
    "    if name and \"Batch\" in name: #all the tabs have the name \"Batch\" at front in my case here\n",
    "\n",
    "        # Delete the first 11 rows - Remember Python start counting from zero\n",
    "        value = value.drop(value.index[range(11)])\n",
    "\n",
    "        all_sheets.append(value)"
   ]
  },
  {
   "cell_type": "markdown",
   "id": "ff89a5eb",
   "metadata": {},
   "source": [
    "#### Check if the total number printed below matches with number of tabs you want to combine. "
   ]
  },
  {
   "cell_type": "code",
   "execution_count": null,
   "id": "7b1c1598",
   "metadata": {},
   "outputs": [],
   "source": [
    "print(len(all_sheets)) #Total number of tabs that meet the search criteria"
   ]
  },
  {
   "cell_type": "markdown",
   "id": "5b66a45a",
   "metadata": {},
   "source": [
    "##### Combine all the tabs into a single file "
   ]
  },
  {
   "cell_type": "code",
   "execution_count": null,
   "id": "c7d72197",
   "metadata": {},
   "outputs": [],
   "source": [
    "full_journal = pd.concat(all_sheets) "
   ]
  },
  {
   "cell_type": "code",
   "execution_count": null,
   "id": "119308f9",
   "metadata": {},
   "outputs": [],
   "source": [
    "full_journal.head() #Print the header of the file"
   ]
  },
  {
   "cell_type": "code",
   "execution_count": null,
   "id": "528e2927",
   "metadata": {},
   "outputs": [],
   "source": [
    "full_journal.columns = header #Pass the header stored earlier into the new file as the header"
   ]
  },
  {
   "cell_type": "code",
   "execution_count": null,
   "id": "61a6cfcb",
   "metadata": {},
   "outputs": [],
   "source": [
    "full_journal.head() #Print the new header"
   ]
  },
  {
   "cell_type": "markdown",
   "id": "3e783a35",
   "metadata": {},
   "source": [
    "#### Set the conditions to drop lines (in many cases, it will be Debit Amount zero, in this case it is the NAN value in Company column)"
   ]
  },
  {
   "cell_type": "code",
   "execution_count": null,
   "id": "471593ea",
   "metadata": {},
   "outputs": [],
   "source": [
    "full_journal = full_journal.dropna(subset=['*Company [..]']) #Drop the lines with the none value in Company"
   ]
  },
  {
   "cell_type": "code",
   "execution_count": null,
   "id": "e93925a2",
   "metadata": {},
   "outputs": [],
   "source": [
    "full_journal= full_journal[full_journal['**Entered Debit'] != 0] #Drop the lines with zero value "
   ]
  },
  {
   "cell_type": "code",
   "execution_count": null,
   "id": "da1c8e7c",
   "metadata": {},
   "outputs": [],
   "source": [
    "full_journal = full_journal.dropna(subset=['**Entered Debit']) #Drop the lines with the none value in Entered Debit"
   ]
  },
  {
   "cell_type": "markdown",
   "id": "9fe70a08",
   "metadata": {},
   "source": [
    "#### Validate the total debit amount"
   ]
  },
  {
   "cell_type": "code",
   "execution_count": null,
   "id": "2f975374",
   "metadata": {},
   "outputs": [],
   "source": [
    "total = full_journal['**Entered Debit'].sum()\n",
    "print(total)"
   ]
  },
  {
   "cell_type": "markdown",
   "id": "4e219fd7",
   "metadata": {},
   "source": [
    "#### Validate the total amount per entity"
   ]
  },
  {
   "cell_type": "code",
   "execution_count": null,
   "id": "5eea2b42",
   "metadata": {},
   "outputs": [],
   "source": [
    "entity_total = full_journal.groupby('*Company [..]')['**Entered Debit'].sum()\n",
    "print(entity_total)"
   ]
  },
  {
   "cell_type": "markdown",
   "id": "70ae6a06",
   "metadata": {},
   "source": [
    "#### Validate the total amount per GL account"
   ]
  },
  {
   "cell_type": "code",
   "execution_count": null,
   "id": "3e63d3f9",
   "metadata": {},
   "outputs": [],
   "source": [
    "account_total = full_journal.groupby('*Account [..]')['**Entered Debit'].sum()\n",
    "print(account_total)"
   ]
  },
  {
   "cell_type": "markdown",
   "id": "bde9be01",
   "metadata": {},
   "source": [
    "#### Export the new file as excel "
   ]
  },
  {
   "cell_type": "code",
   "execution_count": null,
   "id": "4491d46d",
   "metadata": {},
   "outputs": [],
   "source": [
    "output = \"journals_legal_oct.xlsx\""
   ]
  },
  {
   "cell_type": "code",
   "execution_count": null,
   "id": "56c600cf",
   "metadata": {},
   "outputs": [],
   "source": [
    "full_journal.to_excel(output, index=False)"
   ]
  },
  {
   "cell_type": "code",
   "execution_count": null,
   "id": "0f85ee99",
   "metadata": {},
   "outputs": [],
   "source": [
    "from openpyxl import load_workbook\n",
    "\n",
    "wb = load_workbook(output)\n",
    "target = wb['Sheet1']\n",
    "wb.copy_worksheet(target)\n",
    "wb.save(output)"
   ]
  },
  {
   "cell_type": "code",
   "execution_count": null,
   "id": "cc764b7e",
   "metadata": {},
   "outputs": [],
   "source": [
    "sheetcopy = pd.read_excel(output,\"Sheet1 Copy\")"
   ]
  },
  {
   "cell_type": "code",
   "execution_count": null,
   "id": "56ee02f2",
   "metadata": {},
   "outputs": [],
   "source": [
    "for i, row in sheetcopy.iterrows():\n",
    "    if sheetcopy.loc[i,'*Account [..]'] == 66108:\n",
    "        sheetcopy.loc[i,'*Account [..]'] = 23111\n",
    "    elif sheetcopy.loc[i,'*Account [..]'] == 62110:\n",
    "        sheetcopy.loc[i,'*Account [..]'] = 23106\n",
    "    else:\n",
    "        sheetcopy.loc[i,'*Account [..]'] = 23102\n",
    "\n",
    "account_total2 = sheetcopy.groupby('*Account [..]')['**Entered Debit'].sum()\n",
    "print(account_total2)"
   ]
  },
  {
   "cell_type": "code",
   "execution_count": null,
   "id": "5f462b02",
   "metadata": {},
   "outputs": [],
   "source": [
    "sheetcopy['*Department [..]'] = sheetcopy['*Department [..]'].replace('000')"
   ]
  },
  {
   "cell_type": "code",
   "execution_count": null,
   "id": "4b571f46",
   "metadata": {},
   "outputs": [],
   "source": [
    "for i, row in sheetcopy.iterrows():\n",
    "    if sheetcopy.loc[i,'*Product [..]'] == 0:\n",
    "        sheetcopy.loc[i,'*Product [..]'] = '000'\n",
    "    else:\n",
    "        pass"
   ]
  },
  {
   "cell_type": "code",
   "execution_count": null,
   "id": "04f99a44",
   "metadata": {},
   "outputs": [],
   "source": [
    "sheetcopy.loc[:, '*Project [..]'] = '000'"
   ]
  },
  {
   "cell_type": "code",
   "execution_count": null,
   "id": "3456d0ca",
   "metadata": {},
   "outputs": [],
   "source": [
    "for i, row in sheetcopy.iterrows():\n",
    "    if sheetcopy.loc[i, '*Future 1 [..]'] == 0:\n",
    "        sheetcopy.loc[i,'*Future 1 [..]'] = '000'\n",
    "    else:\n",
    "        pass"
   ]
  },
  {
   "cell_type": "code",
   "execution_count": null,
   "id": "359d0e6e",
   "metadata": {},
   "outputs": [],
   "source": [
    "for i, row in sheetcopy.iterrows():\n",
    "    if sheetcopy.loc[i, '*Intercompany [..]'] == 0:\n",
    "        sheetcopy.loc[i,'*Intercompany [..]'] = '000'\n",
    "    else:\n",
    "        pass"
   ]
  },
  {
   "cell_type": "code",
   "execution_count": null,
   "id": "452d7822",
   "metadata": {},
   "outputs": [],
   "source": [
    "for i, row in sheetcopy.iterrows():\n",
    "    if sheetcopy.loc[i, '*Future 2 [..]'] == 0:\n",
    "        sheetcopy.loc[i,'*Future 2 [..]'] = '000'\n",
    "    else:\n",
    "        pass"
   ]
  },
  {
   "cell_type": "code",
   "execution_count": null,
   "id": "ae08a377",
   "metadata": {},
   "outputs": [],
   "source": [
    "sheetcopy.loc[:, '*Department [..]'] = '000'"
   ]
  },
  {
   "cell_type": "code",
   "execution_count": null,
   "id": "2dd90aaf",
   "metadata": {},
   "outputs": [],
   "source": [
    "sheetcopy.loc[:, '*Location [..]'] = '000'"
   ]
  },
  {
   "cell_type": "code",
   "execution_count": null,
   "id": "e68623ee",
   "metadata": {},
   "outputs": [],
   "source": [
    "sheetcopy['**Entered Credit'] = sheetcopy['**Entered Credit'].fillna(sheetcopy['**Entered Debit'])"
   ]
  },
  {
   "cell_type": "code",
   "execution_count": null,
   "id": "d78ce8ef",
   "metadata": {},
   "outputs": [],
   "source": [
    "sheetcopy.loc[:, '**Entered Debit'] = \"\""
   ]
  },
  {
   "cell_type": "code",
   "execution_count": null,
   "id": "7d1ca2fb",
   "metadata": {},
   "outputs": [],
   "source": [
    "frames = [full_journal, sheetcopy]\n",
    "\n",
    "result = pd.concat(frames)\n",
    "\n",
    "result.to_excel(output, index=True)"
   ]
  }
 ],
 "metadata": {
  "kernelspec": {
   "display_name": "Python 3 (ipykernel)",
   "language": "python",
   "name": "python3"
  },
  "language_info": {
   "codemirror_mode": {
    "name": "ipython",
    "version": 3
   },
   "file_extension": ".py",
   "mimetype": "text/x-python",
   "name": "python",
   "nbconvert_exporter": "python",
   "pygments_lexer": "ipython3",
   "version": "3.9.7"
  }
 },
 "nbformat": 4,
 "nbformat_minor": 5
}
