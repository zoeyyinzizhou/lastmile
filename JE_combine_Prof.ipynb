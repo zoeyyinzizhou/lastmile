{
 "cells": [
  {
   "cell_type": "markdown",
   "id": "b82090c4",
   "metadata": {},
   "source": [
    "#### Save this file within the same folder as your workpaper (where you have your journal batches on separate tabs)"
   ]
  },
  {
   "cell_type": "markdown",
   "id": "448bf70b",
   "metadata": {},
   "source": [
    "#### Open this file in Jupyter Notebook and run the script below"
   ]
  },
  {
   "cell_type": "markdown",
   "id": "5ff2d38d",
   "metadata": {},
   "source": [
    "#### Import Libraries"
   ]
  },
  {
   "cell_type": "code",
   "execution_count": null,
   "id": "8bd5ec8d",
   "metadata": {},
   "outputs": [],
   "source": [
    "import os\n",
    "import pandas as pd"
   ]
  },
  {
   "cell_type": "markdown",
   "id": "bdc3aa8a",
   "metadata": {},
   "source": [
    "# Please update f equals to your WP file name"
   ]
  },
  {
   "cell_type": "code",
   "execution_count": null,
   "id": "2eee21f3",
   "metadata": {},
   "outputs": [],
   "source": [
    "#Set f equals your wp name\n",
    "f = 'RH_OCT22_Accrual of Reversing Professional Fees.xlsx'"
   ]
  },
  {
   "cell_type": "markdown",
   "id": "7db5212c",
   "metadata": {},
   "source": [
    "##### Read all the tabs within the excel file"
   ]
  },
  {
   "cell_type": "code",
   "execution_count": null,
   "id": "7522c8f9",
   "metadata": {},
   "outputs": [],
   "source": [
    "#Pass the file name in as the first parameter -\n",
    "\n",
    "sheets_dict = pd.read_excel(f, sheet_name=None) "
   ]
  },
  {
   "cell_type": "markdown",
   "id": "1d79dcb3",
   "metadata": {},
   "source": [
    "#### Create a empty list to store journal header name (will pass it as the header for the final journal batch)"
   ]
  },
  {
   "cell_type": "code",
   "execution_count": null,
   "id": "2bb44225",
   "metadata": {},
   "outputs": [],
   "source": [
    "header =[]\n",
    "\n",
    "#Read one of the tabs that have the journal batch template -\"Batch_Invoice_(1)\"\n",
    "#header is in row 12, therefore, the 3rd parameter is - header=11 - as Python start counting from zero\n",
    "#if on your file the header is in row 11, make sure to update parameter header=10, etc. \n",
    "\n",
    "Batch1 = pd.read_excel(f, \"Batch_CM\", header=11)\n",
    "header = list(Batch1.columns.values)\n",
    "print(header)"
   ]
  },
  {
   "cell_type": "markdown",
   "id": "e61d0263",
   "metadata": {},
   "source": [
    "#### Create a empty list to store all the journal batch tabs (make sure those tabs have the same naming convention so we can set criteria to iterate and find those tabs within the file)"
   ]
  },
  {
   "cell_type": "code",
   "execution_count": null,
   "id": "3f3e0ece",
   "metadata": {},
   "outputs": [],
   "source": [
    "all_sheets = []"
   ]
  },
  {
   "cell_type": "code",
   "execution_count": null,
   "id": "f7882e6b",
   "metadata": {},
   "outputs": [],
   "source": [
    "for name, value in sheets_dict.items():\n",
    "    if name and \"Batch\" in name: #all the tabs have the name \"Batch\" at front in my case here\n",
    "\n",
    "        # Delete the first 11 rows - Remember Python start counting from zero\n",
    "        value = value.drop(value.index[range(11)])\n",
    "\n",
    "        all_sheets.append(value)"
   ]
  },
  {
   "cell_type": "code",
   "execution_count": null,
   "id": "7b1c1598",
   "metadata": {},
   "outputs": [],
   "source": [
    "print(len(all_sheets)) #Total number of tabs that meet the search criteria"
   ]
  },
  {
   "cell_type": "markdown",
   "id": "e1fd5daa",
   "metadata": {},
   "source": [
    "##### Combine all the tabs into a single file "
   ]
  },
  {
   "cell_type": "code",
   "execution_count": null,
   "id": "c7d72197",
   "metadata": {},
   "outputs": [],
   "source": [
    "full_journal = pd.concat(all_sheets) "
   ]
  },
  {
   "cell_type": "code",
   "execution_count": null,
   "id": "119308f9",
   "metadata": {},
   "outputs": [],
   "source": [
    "full_journal.head() #Print the header of the file"
   ]
  },
  {
   "cell_type": "code",
   "execution_count": null,
   "id": "d0aecc36",
   "metadata": {},
   "outputs": [],
   "source": [
    "full_journal.columns = header #Pass the header stored earlier into the new file as the header"
   ]
  },
  {
   "cell_type": "code",
   "execution_count": null,
   "id": "00d91580",
   "metadata": {},
   "outputs": [],
   "source": [
    "full_journal.head() #Print the new header"
   ]
  },
  {
   "cell_type": "code",
   "execution_count": null,
   "id": "471593ea",
   "metadata": {},
   "outputs": [],
   "source": [
    "full_journal = full_journal.dropna(subset=['*Company [..]']) #Drop the lines with the none value in Company"
   ]
  },
  {
   "cell_type": "markdown",
   "id": "7d3496ec",
   "metadata": {},
   "source": [
    "#### Validate the total debit amount"
   ]
  },
  {
   "cell_type": "code",
   "execution_count": null,
   "id": "2f975374",
   "metadata": {},
   "outputs": [],
   "source": [
    "total = full_journal['**Entered Debit'].sum()\n",
    "print(total)"
   ]
  },
  {
   "cell_type": "markdown",
   "id": "ec4c0198",
   "metadata": {},
   "source": [
    "#### Validate the total amount per entity"
   ]
  },
  {
   "cell_type": "code",
   "execution_count": null,
   "id": "5ea53808",
   "metadata": {},
   "outputs": [],
   "source": [
    "entity_total = full_journal.groupby('*Company [..]')['**Entered Debit'].sum()\n",
    "print(entity_total)"
   ]
  },
  {
   "cell_type": "markdown",
   "id": "8f57cee4",
   "metadata": {},
   "source": [
    "#### Validate the total amount per GL account"
   ]
  },
  {
   "cell_type": "code",
   "execution_count": null,
   "id": "92c90c09",
   "metadata": {},
   "outputs": [],
   "source": [
    "account_total = full_journal.groupby('*Account [..]')['**Entered Debit'].sum()\n",
    "print(account_total)"
   ]
  },
  {
   "cell_type": "markdown",
   "id": "9d21a203",
   "metadata": {},
   "source": [
    "#### delete zero debit entries"
   ]
  },
  {
   "cell_type": "code",
   "execution_count": null,
   "id": "99af7538",
   "metadata": {},
   "outputs": [],
   "source": [
    "full_journal=full_journal[full_journal['**Entered Debit'] != 0]"
   ]
  },
  {
   "cell_type": "markdown",
   "id": "8fc3beef",
   "metadata": {},
   "source": [
    "# Name the final version file"
   ]
  },
  {
   "cell_type": "code",
   "execution_count": null,
   "id": "5bf72671",
   "metadata": {},
   "outputs": [],
   "source": [
    "output = \"journals_prof.xlsx\""
   ]
  },
  {
   "cell_type": "markdown",
   "id": "72633e15",
   "metadata": {},
   "source": [
    "#### Export temp file into an excel"
   ]
  },
  {
   "cell_type": "code",
   "execution_count": null,
   "id": "56c600cf",
   "metadata": {},
   "outputs": [],
   "source": [
    "full_journal.to_excel(output, index=False)"
   ]
  },
  {
   "cell_type": "code",
   "execution_count": null,
   "id": "3c53be48",
   "metadata": {},
   "outputs": [],
   "source": [
    "from openpyxl import load_workbook\n",
    "\n",
    "wb = load_workbook(output)\n",
    "target = wb['Sheet1']\n",
    "wb.copy_worksheet(target)\n",
    "wb.save(output)"
   ]
  },
  {
   "cell_type": "code",
   "execution_count": null,
   "id": "cda4d0f3",
   "metadata": {},
   "outputs": [],
   "source": [
    "sheetcopy = pd.read_excel(output,\"Sheet1 Copy\")"
   ]
  },
  {
   "cell_type": "markdown",
   "id": "2554448d",
   "metadata": {},
   "source": [
    "## Update your Liability Account"
   ]
  },
  {
   "cell_type": "code",
   "execution_count": null,
   "id": "9a803cd7",
   "metadata": {},
   "outputs": [],
   "source": [
    "sheetcopy.loc[:, '*Account [..]'] = 23111 ###credit liability account"
   ]
  },
  {
   "cell_type": "code",
   "execution_count": null,
   "id": "80d2e9dc",
   "metadata": {},
   "outputs": [],
   "source": [
    "sheetcopy['*Department [..]'] = sheetcopy['*Department [..]'].replace('000')"
   ]
  },
  {
   "cell_type": "code",
   "execution_count": null,
   "id": "92674e8c",
   "metadata": {},
   "outputs": [],
   "source": [
    "for i, row in sheetcopy.iterrows():\n",
    "    if sheetcopy.loc[i,'*Product [..]'] == 0:\n",
    "        sheetcopy.loc[i,'*Product [..]'] = '000'\n",
    "    else:\n",
    "        pass"
   ]
  },
  {
   "cell_type": "code",
   "execution_count": null,
   "id": "51e6e51d",
   "metadata": {},
   "outputs": [],
   "source": [
    "sheetcopy.loc[:, '*Project [..]'] = '000'"
   ]
  },
  {
   "cell_type": "code",
   "execution_count": null,
   "id": "a70a7511",
   "metadata": {},
   "outputs": [],
   "source": [
    "for i, row in sheetcopy.iterrows():\n",
    "    if sheetcopy.loc[i, '*Intercompany [..]'] == 0:\n",
    "        sheetcopy.loc[i,'*Intercompany [..]'] = '000'\n",
    "    else:\n",
    "        pass"
   ]
  },
  {
   "cell_type": "code",
   "execution_count": null,
   "id": "c34cd144",
   "metadata": {},
   "outputs": [],
   "source": [
    "sheetcopy.loc[:, '*Future 1 [..]'] = '000'"
   ]
  },
  {
   "cell_type": "code",
   "execution_count": null,
   "id": "8365dba8",
   "metadata": {},
   "outputs": [],
   "source": [
    "sheetcopy.loc[:, '*Future 2 [..]'] = '000'"
   ]
  },
  {
   "cell_type": "code",
   "execution_count": null,
   "id": "f05f997c",
   "metadata": {},
   "outputs": [],
   "source": [
    "sheetcopy.loc[:, '*Department [..]'] = '000'"
   ]
  },
  {
   "cell_type": "code",
   "execution_count": null,
   "id": "b9dcf9a4",
   "metadata": {},
   "outputs": [],
   "source": [
    "sheetcopy.loc[:, '*Location [..]'] = '000'"
   ]
  },
  {
   "cell_type": "code",
   "execution_count": null,
   "id": "5e1af777",
   "metadata": {},
   "outputs": [],
   "source": [
    "sheetcopy['**Entered Credit'] = sheetcopy['**Entered Credit'].fillna(sheetcopy['**Entered Debit'])"
   ]
  },
  {
   "cell_type": "code",
   "execution_count": null,
   "id": "5b4fc08c",
   "metadata": {},
   "outputs": [],
   "source": [
    "sheetcopy.loc[:, '**Entered Debit'] = \"\""
   ]
  },
  {
   "cell_type": "markdown",
   "id": "25b8d20a",
   "metadata": {},
   "source": [
    "#### Export final copy to excel"
   ]
  },
  {
   "cell_type": "code",
   "execution_count": null,
   "id": "11416d38",
   "metadata": {},
   "outputs": [],
   "source": [
    "frames = [full_journal, sheetcopy]\n",
    "\n",
    "result = pd.concat(frames)\n",
    "\n",
    "result.to_excel(output, index=True)"
   ]
  }
 ],
 "metadata": {
  "kernelspec": {
   "display_name": "Python 3 (ipykernel)",
   "language": "python",
   "name": "python3"
  },
  "language_info": {
   "codemirror_mode": {
    "name": "ipython",
    "version": 3
   },
   "file_extension": ".py",
   "mimetype": "text/x-python",
   "name": "python",
   "nbconvert_exporter": "python",
   "pygments_lexer": "ipython3",
   "version": "3.9.7"
  }
 },
 "nbformat": 4,
 "nbformat_minor": 5
}
